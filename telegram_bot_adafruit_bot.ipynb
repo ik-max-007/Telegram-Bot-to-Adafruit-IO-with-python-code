{
  "nbformat": 4,
  "nbformat_minor": 0,
  "metadata": {
    "colab": {
      "name": "telegram_bot_adafruit_bot.ipynb",
      "provenance": [],
      "collapsed_sections": [],
      "toc_visible": true,
      "authorship_tag": "ABX9TyN045teF0xDJuIJXrWqTyIM",
      "include_colab_link": true
    },
    "kernelspec": {
      "display_name": "Python 3",
      "name": "python3"
    },
    "language_info": {
      "name": "python"
    }
  },
  "cells": [
    {
      "cell_type": "markdown",
      "metadata": {
        "id": "view-in-github",
        "colab_type": "text"
      },
      "source": [
        "<a href=\"https://colab.research.google.com/github/ik-max-007/Telegram-Bot-to-Adafruit-IO-with-python-code/blob/main/telegram_bot_adafruit_bot.ipynb\" target=\"_parent\"><img src=\"https://colab.research.google.com/assets/colab-badge.svg\" alt=\"Open In Colab\"/></a>"
      ]
    },
    {
      "cell_type": "code",
      "metadata": {
        "id": "B1v5bxlJ2d0G",
        "colab": {
          "base_uri": "https://localhost:8080/"
        },
        "outputId": "a54d28e6-7c17-4d3e-96f2-950761e71d75"
      },
      "source": [
        "!pip install python-telegram-bot==13.0 --quiet\n",
        "\n"
      ],
      "execution_count": null,
      "outputs": [
        {
          "output_type": "stream",
          "name": "stdout",
          "text": [
            "\u001b[K     |████████████████████████████████| 404 kB 2.5 MB/s \n",
            "\u001b[K     |████████████████████████████████| 3.5 MB 6.5 MB/s \n",
            "\u001b[K     |████████████████████████████████| 58 kB 1.8 MB/s \n",
            "\u001b[?25h"
          ]
        }
      ]
    },
    {
      "cell_type": "code",
      "metadata": {
        "cellView": "code",
        "id": "7H4JzMHLB6o_"
      },
      "source": [
        "from telegram.ext import Updater,CommandHandler,MessageHandler,Filters\n",
        "from Adafruit_IO import Client,Data\n",
        "import  os\n",
        "\n",
        "def turnoffthelight(update, context):\n",
        "  context.bot.send_message(chat_id=update.effective_chat.id, text=\"Bulb turned off\")\n",
        "  send_value(0)\n",
        "def turnonthelight(update, context):\n",
        "  context.bot.send_message(chat_id=update.effective_chat.id, text=\"Bulb turned on\")\n",
        "  send_value(1)\n",
        "\n",
        "def turnoffthefan(update, context):\n",
        "  context.bot.send_message(chat_id=update.effective_chat.id, text=\"fan turned off\")\n",
        "  send_value2(0)\n",
        "def turnonthefan(update, context):\n",
        "  context.bot.send_message(chat_id=update.effective_chat.id, text=\"fan turned on\")\n",
        "  send_value2(1)\n",
        "\n",
        "def send_value2(value2):\n",
        "  feed = aio.feeds('majorproject2')\n",
        "  aio.send_data(feed.key,value2)\n",
        "\n",
        "def send_value(value):\n",
        "  feed = aio.feeds('majorproject')\n",
        "  aio.send_data(feed.key,value)\n",
        "\n",
        "def input_message(update, context):\n",
        "  text=update.message.text\n",
        "  if text == 'turnonthelight':\n",
        "    send_value(1)\n",
        "    context.bot.send_message(chat_id=update.effective_chat.id,text=\"Bulb turned on\")\n",
        "  elif text == 'turnoffthelight':\n",
        "    send_value(0)\n",
        "    context.bot.send_message(chat_id=update.effective_chat.id,text=\"Bulb turned off\")\n",
        "  elif text == 'turnonthefan':\n",
        "    send_value2(1)\n",
        "    context.bot.send_message(chat_id=update.effective_chat.id,text=\"fan turned on\")\n",
        "  elif text == 'turnoffthefan':\n",
        "    send_value2(0)\n",
        "    context.bot.send_message(chat_id=update.effective_chat.id,text=\"fan turned off\")\n",
        "\n",
        "def start(update,context):\n",
        "  start_message='''\n",
        "/turnoff the light or 'turn off':To turn off the bulb \n",
        "/turnon the light or 'turn on'  :To turn on the bulb\n",
        "/turnoff the fan or 'turn off':To turn off the fan \n",
        "/turnon the fan or 'turn on'  :To turn on the fan  \n",
        "'''\n",
        "  context.bot.send_message(chat_id=update.effective_chat.id, text=start_message)\n",
        "\n",
        "ADAFRUIT_IO_USERNAME =  os.getenv('Israfil_786')\n",
        "ADAFRUIT_IO_KEY = os.getenv('aio_LdMZ54Tk3JcxGVLk1ElcdF8GtamM')\n",
        "TOKEN = os.getenv('2119423375:AAHJeRWpntGn2hA7U9aRs5i13iHd_4MKHPY')\n",
        "\n",
        "aio = Client('Israfil_786','aio_LdMZ54Tk3JcxGVLk1ElcdF8GtamM')\n",
        "updater=Updater('2119423375:AAHJeRWpntGn2hA7U9aRs5i13iHd_4MKHPY',use_context=True)\n",
        "dispatcher = updater.dispatcher\n",
        "dispatcher.add_handler(CommandHandler('turnoffthelight',turnoffthelight))\n",
        "dispatcher.add_handler(CommandHandler('turnonthelight',turnonthelight))\n",
        "dispatcher.add_handler(CommandHandler('turnoffthefan',turnoffthefan))\n",
        "dispatcher.add_handler(CommandHandler('turnonthefan',turnonthefan))\n",
        "dispatcher.add_handler(CommandHandler('start',start))\n",
        "dispatcher.add_handler(MessageHandler(Filters.text & (~Filters.command),input_message))\n",
        "updater.start_polling()\n",
        "updater.idle()"
      ],
      "execution_count": null,
      "outputs": []
    },
    {
      "cell_type": "code",
      "metadata": {
        "id": "IKBZYk8G8o_5",
        "colab": {
          "base_uri": "https://localhost:8080/"
        },
        "outputId": "593f07fd-4c6f-4235-d7a0-eb767fc9bf80"
      },
      "source": [
        "!sudo pip3 install adafruit-io --quiet"
      ],
      "execution_count": null,
      "outputs": [
        {
          "output_type": "stream",
          "name": "stdout",
          "text": [
            "\u001b[K     |████████████████████████████████| 47 kB 782 kB/s \n",
            "\u001b[K     |████████████████████████████████| 99 kB 3.4 MB/s \n",
            "\u001b[?25h  Building wheel for adafruit-io (setup.py) ... \u001b[?25l\u001b[?25hdone\n",
            "  Building wheel for paho-mqtt (setup.py) ... \u001b[?25l\u001b[?25hdone\n"
          ]
        }
      ]
    }
  ]
}